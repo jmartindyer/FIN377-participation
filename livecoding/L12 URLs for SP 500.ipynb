{
 "cells": [
  {
   "cell_type": "code",
   "execution_count": 1,
   "metadata": {},
   "outputs": [
    {
     "name": "stdout",
     "output_type": "stream",
     "text": [
      "Requirement already satisfied: requests_html in c:\\users\\juan gabriel\\anaconda3\\lib\\site-packages (0.10.0)"
     ]
    },
    {
     "name": "stderr",
     "output_type": "stream",
     "text": [
      "ERROR: Error checking for conflicts.\n",
      "Traceback (most recent call last):\n",
      "  File \"C:\\Users\\Juan Gabriel\\Anaconda3\\lib\\site-packages\\pip\\_vendor\\pkg_resources\\__init__.py\", line 3021, in _dep_map\n",
      "    return self.__dep_map\n",
      "  File \"C:\\Users\\Juan Gabriel\\Anaconda3\\lib\\site-packages\\pip\\_vendor\\pkg_resources\\__init__.py\", line 2815, in __getattr__\n",
      "    raise AttributeError(attr)\n",
      "AttributeError: _DistInfoDistribution__dep_map\n",
      "\n",
      "During handling of the above exception, another exception occurred:\n",
      "\n",
      "Traceback (most recent call last):\n",
      "  File \"C:\\Users\\Juan Gabriel\\Anaconda3\\lib\\site-packages\\pip\\_vendor\\pkg_resources\\__init__.py\", line 3012, in _parsed_pkg_info\n",
      "    return self._pkg_info\n",
      "  File \"C:\\Users\\Juan Gabriel\\Anaconda3\\lib\\site-packages\\pip\\_vendor\\pkg_resources\\__init__.py\", line 2815, in __getattr__\n",
      "    raise AttributeError(attr)\n",
      "AttributeError: _pkg_info\n",
      "\n",
      "During handling of the above exception, another exception occurred:\n",
      "\n",
      "Traceback (most recent call last):\n",
      "  File \"C:\\Users\\Juan Gabriel\\Anaconda3\\lib\\site-packages\\pip\\_internal\\commands\\install.py\", line 517, in _warn_about_conflicts\n",
      "    package_set, _dep_info = check_install_conflicts(to_install)\n",
      "  File \"C:\\Users\\Juan Gabriel\\Anaconda3\\lib\\site-packages\\pip\\_internal\\operations\\check.py\", line 114, in check_install_conflicts\n",
      "    package_set, _ = create_package_set_from_installed()\n",
      "  File \"C:\\Users\\Juan Gabriel\\Anaconda3\\lib\\site-packages\\pip\\_internal\\operations\\check.py\", line 53, in create_package_set_from_installed\n",
      "    package_set[name] = PackageDetails(dist.version, dist.requires())\n",
      "  File \"C:\\Users\\Juan Gabriel\\Anaconda3\\lib\\site-packages\\pip\\_vendor\\pkg_resources\\__init__.py\", line 2736, in requires\n",
      "    dm = self._dep_map"
     ]
    },
    {
     "name": "stdout",
     "output_type": "stream",
     "text": [
      "\n",
      "Requirement already satisfied: w3lib in c:\\users\\juan gabriel\\anaconda3\\lib\\site-packages (from requests_html) (1.21.0)\n",
      "Requirement already satisfied: pyquery in c:\\users\\juan gabriel\\anaconda3\\lib\\site-packages (from requests_html) (1.4.1)\n",
      "Requirement already satisfied: parse in c:\\users\\juan gabriel\\anaconda3\\lib\\site-packages (from requests_html) (1.14.0)\n",
      "Requirement already satisfied: bs4 in c:\\users\\juan gabriel\\anaconda3\\lib\\site-packages (from requests_html) (0.0.1)\n",
      "Requirement already satisfied: pyppeteer>=0.0.14 in c:\\users\\juan gabriel\\anaconda3\\lib\\site-packages (from requests_html) (0.0.25)\n",
      "Requirement already satisfied: fake-useragent in c:\\users\\juan gabriel\\anaconda3\\lib\\site-packages (from requests_html) (0.1.11)\n",
      "Requirement already satisfied: requests in c:\\users\\juan gabriel\\anaconda3\\lib\\site-packages (from requests_html) (2.23.0)\n",
      "Requirement already satisfied: six>=1.4.1 in c:\\users\\juan gabriel\\anaconda3\\lib\\site-packages (from w3lib->requests_html) (1.14.0)\n",
      "Requirement already satisfied: lxml>=2.1 in c:\\users\\juan gabriel\\anaconda3\\lib\\site-packages (from pyquery->requests_html) (4.5.0)\n",
      "Requirement already satisfied: cssselect>0.7.9 in c:\\users\\juan gabriel\\anaconda3\\lib\\site-packages (from pyquery->requests_html) (1.1.0)\n",
      "Requirement already satisfied: beautifulsoup4 in c:\\users\\juan gabriel\\anaconda3\\lib\\site-packages (from bs4->requests_html) (4.8.2)\n",
      "Requirement already satisfied: pyee in c:\\users\\juan gabriel\\anaconda3\\lib\\site-packages (from pyppeteer>=0.0.14->requests_html) (7.0.1)\n",
      "Requirement already satisfied: appdirs in c:\\users\\juan gabriel\\anaconda3\\lib\\site-packages (from pyppeteer>=0.0.14->requests_html) (1.4.3)\n",
      "Requirement already satisfied: tqdm in c:\\users\\juan gabriel\\anaconda3\\lib\\site-packages (from pyppeteer>=0.0.14->requests_html) (4.44.1)\n",
      "Requirement already satisfied: urllib3 in c:\\users\\juan gabriel\\anaconda3\\lib\\site-packages (from pyppeteer>=0.0.14->requests_html) (1.25.8)\n",
      "Requirement already satisfied: websockets in c:\\users\\juan gabriel\\anaconda3\\lib\\site-packages (from pyppeteer>=0.0.14->requests_html) (8.1)\n",
      "Requirement already satisfied: certifi>=2017.4.17 in c:\\users\\juan gabriel\\anaconda3\\lib\\site-packages (from requests->requests_html) (2019.11.28)\n",
      "Requirement already satisfied: chardet<4,>=3.0.2 in c:\\users\\juan gabriel\\anaconda3\\lib\\site-packages (from requests->requests_html) (3.0.4)\n",
      "Requirement already satisfied: idna<3,>=2.5 in c:\\users\\juan gabriel\\anaconda3\\lib\\site-packages (from requests->requests_html) (2.9)\n",
      "Requirement already satisfied: soupsieve>=1.2 in c:\\users\\juan gabriel\\anaconda3\\lib\\site-packages (from beautifulsoup4->bs4->requests_html) (2.0)\n"
     ]
    },
    {
     "name": "stderr",
     "output_type": "stream",
     "text": [
      "\n",
      "  File \"C:\\Users\\Juan Gabriel\\Anaconda3\\lib\\site-packages\\pip\\_vendor\\pkg_resources\\__init__.py\", line 3023, in _dep_map\n",
      "    self.__dep_map = self._compute_dependencies()\n",
      "  File \"C:\\Users\\Juan Gabriel\\Anaconda3\\lib\\site-packages\\pip\\_vendor\\pkg_resources\\__init__.py\", line 3032, in _compute_dependencies\n",
      "    for req in self._parsed_pkg_info.get_all('Requires-Dist') or []:\n",
      "  File \"C:\\Users\\Juan Gabriel\\Anaconda3\\lib\\site-packages\\pip\\_vendor\\pkg_resources\\__init__.py\", line 3014, in _parsed_pkg_info\n",
      "    metadata = self.get_metadata(self.PKG_INFO)\n",
      "  File \"C:\\Users\\Juan Gabriel\\Anaconda3\\lib\\site-packages\\pip\\_vendor\\pkg_resources\\__init__.py\", line 1420, in get_metadata\n",
      "    value = self._get(path)\n",
      "  File \"C:\\Users\\Juan Gabriel\\Anaconda3\\lib\\site-packages\\pip\\_vendor\\pkg_resources\\__init__.py\", line 1616, in _get\n",
      "    with open(path, 'rb') as stream:\n",
      "FileNotFoundError: [Errno 2] No such file or directory: 'c:\\\\users\\\\juan gabriel\\\\anaconda3\\\\lib\\\\site-packages\\\\pyodbc-4.0.27.dist-info\\\\METADATA'\n"
     ]
    }
   ],
   "source": [
    "!pip install requests_html"
   ]
  },
  {
   "cell_type": "code",
   "execution_count": 2,
   "metadata": {},
   "outputs": [],
   "source": [
    "import pandas as pd\n",
    "from requests_html import HTMLSession\n",
    "session = HTMLSession()\n",
    "url = 'https://en.wikipedia.org/wiki/List_of_S%26P_500_companies'\n",
    "r = session.get(url)\n",
    "r\n",
    "\n",
    "# find links\n",
    "r.html.absolute_links # full links\n",
    "table = r.html.find('#constituents')[0] # reduce to table\n",
    "table_rows = table.find('tr')[1:]\n",
    "colinks = []\n",
    "for row in table_rows:\n",
    "    a_url = list(row.find('td')[1].absolute_links)[0]\n",
    "    colinks.append(a_url)"
   ]
  },
  {
   "cell_type": "code",
   "execution_count": 3,
   "metadata": {},
   "outputs": [
    {
     "data": {
      "text/plain": [
       "505"
      ]
     },
     "execution_count": 3,
     "metadata": {},
     "output_type": "execute_result"
    }
   ],
   "source": [
    "len(colinks)    "
   ]
  },
  {
   "cell_type": "code",
   "execution_count": null,
   "metadata": {},
   "outputs": [],
   "source": []
  }
 ],
 "metadata": {
  "kernelspec": {
   "display_name": "Python 3",
   "language": "python",
   "name": "python3"
  },
  "language_info": {
   "codemirror_mode": {
    "name": "ipython",
    "version": 3
   },
   "file_extension": ".py",
   "mimetype": "text/x-python",
   "name": "python",
   "nbconvert_exporter": "python",
   "pygments_lexer": "ipython3",
   "version": "3.7.7"
  }
 },
 "nbformat": 4,
 "nbformat_minor": 2
}
