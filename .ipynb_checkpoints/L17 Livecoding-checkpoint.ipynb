{
 "cells": [
  {
   "cell_type": "code",
   "execution_count": 1,
   "metadata": {},
   "outputs": [],
   "source": [
    "# load some data to practice regressions\n",
    "import seaborn as sns\n",
    "import numpy as np\n",
    "diamonds = sns.load_dataset('diamonds')\n",
    "\n",
    "# this alteration is not strictly necessary to practice a regression\n",
    "# but we use this in livecoding\n",
    "diamonds2 = (diamonds.query('carat < 2.5')               # censor/remove outliers\n",
    "            .assign(lprice = np.log(diamonds['price']))  # log transform price\n",
    "            .assign(lcarat = np.log(diamonds['carat']))  # log transform carats\n",
    "            .assign(ideal = diamonds['cut'] == 'Ideal') \n",
    "             \n",
    "             # some regression packages want you to explicitly provide \n",
    "             # a variable for the constant\n",
    "            .assign(const = 1)                           \n",
    "            )  "
   ]
  },
  {
   "cell_type": "code",
   "execution_count": 2,
   "metadata": {},
   "outputs": [
    {
     "data": {
      "text/plain": [
       "False    32273\n",
       "True     21524\n",
       "Name: ideal, dtype: int64"
      ]
     },
     "execution_count": 2,
     "metadata": {},
     "output_type": "execute_result"
    }
   ],
   "source": [
    "diamonds2['ideal'].value_counts()"
   ]
  },
  {
   "cell_type": "code",
   "execution_count": 12,
   "metadata": {},
   "outputs": [
    {
     "name": "stdout",
     "output_type": "stream",
     "text": [
      "                            OLS Regression Results                            \n",
      "==============================================================================\n",
      "Dep. Variable:                 lprice   R-squared:                       0.933\n",
      "Model:                            OLS   Adj. R-squared:                  0.933\n",
      "Method:                 Least Squares   F-statistic:                 7.542e+05\n",
      "Date:                Tue, 24 Mar 2020   Prob (F-statistic):               0.00\n",
      "Time:                        12:46:12   Log-Likelihood:                -4073.2\n",
      "No. Observations:               53797   AIC:                             8150.\n",
      "Df Residuals:                   53795   BIC:                             8168.\n",
      "Df Model:                           1                                         \n",
      "Covariance Type:            nonrobust                                         \n",
      "==============================================================================\n",
      "                 coef    std err          t      P>|t|      [0.025      0.975]\n",
      "------------------------------------------------------------------------------\n",
      "const          8.4525      0.001   6193.432      0.000       8.450       8.455\n",
      "lcarat         1.6819      0.002    868.465      0.000       1.678       1.686\n",
      "==============================================================================\n",
      "Omnibus:                      775.052   Durbin-Watson:                   1.211\n",
      "Prob(Omnibus):                  0.000   Jarque-Bera (JB):             1334.265\n",
      "Skew:                           0.106   Prob(JB):                    1.85e-290\n",
      "Kurtosis:                       3.742   Cond. No.                         2.10\n",
      "==============================================================================\n",
      "\n",
      "Warnings:\n",
      "[1] Standard Errors assume that the covariance matrix of the errors is correctly specified.\n"
     ]
    },
    {
     "data": {
      "text/plain": [
       "<matplotlib.axes._subplots.AxesSubplot at 0x266eea34b88>"
      ]
     },
     "execution_count": 12,
     "metadata": {},
     "output_type": "execute_result"
    },
    {
     "data": {
      "image/png": "[encoded data removed]",
      "text/plain": [
       "<Figure size 432x288 with 1 Axes>"
      ]
     },
     "metadata": {
      "needs_background": "light"
     },
     "output_type": "display_data"
    }
   ],
   "source": [
    "import statsmodels.api as sm  \n",
    "\n",
    "y = diamonds2['lprice']\n",
    "X = diamonds2[['const','lcarat']]\n",
    "\n",
    "model1 = sm.OLS(y,X)                # pick model type and specify model features\n",
    "results1 = model1.fit()             # estimate / fit\n",
    "print(results1.summary())           # view results \n",
    "y_predicted1 = results1.predict()   # get the predicted results\n",
    "residuals1 = results1.resid         # get the residuals\n",
    "#residuals1 = y - y_predicted1      # another way to get the residuals\n",
    "\n",
    "diamonds2['lprice_predicted1'] = results1.predict()\n",
    "diamonds2['residuals1'] = results1.resid\n",
    "\n",
    "diamonds2['price_predicted1'] = np.exp(diamonds2['lprice_predicted1'])\n",
    "\n",
    "sns.lineplot(data=diamonds2.sample(700),x='carat',y='price_predicted1',color='red')"
   ]
  },
  {
   "cell_type": "code",
   "execution_count": 11,
   "metadata": {},
   "outputs": [
    {
     "data": {
      "text/html": [
       "<div>\n",
       "<style scoped>\n",
       "    .dataframe tbody tr th:only-of-type {\n",
       "        vertical-align: middle;\n",
       "    }\n",
       "\n",
       "    .dataframe tbody tr th {\n",
       "        vertical-align: top;\n",
       "    }\n",
       "\n",
       "    .dataframe thead th {\n",
       "        text-align: right;\n",
       "    }\n",
       "</style>\n",
       "<table border=\"1\" class=\"dataframe\">\n",
       "  <thead>\n",
       "    <tr style=\"text-align: right;\">\n",
       "      <th></th>\n",
       "      <th>carat</th>\n",
       "      <th>depth</th>\n",
       "      <th>table</th>\n",
       "      <th>price</th>\n",
       "      <th>x</th>\n",
       "      <th>y</th>\n",
       "      <th>z</th>\n",
       "      <th>lprice</th>\n",
       "      <th>lcarat</th>\n",
       "      <th>const</th>\n",
       "      <th>lprice_predicted</th>\n",
       "      <th>residuals1</th>\n",
       "      <th>lprice_predicted1</th>\n",
       "      <th>price_predicted1</th>\n",
       "    </tr>\n",
       "  </thead>\n",
       "  <tbody>\n",
       "    <tr>\n",
       "      <th>count</th>\n",
       "      <td>53790.000000</td>\n",
       "      <td>53790.000000</td>\n",
       "      <td>53790.000000</td>\n",
       "      <td>53790.000000</td>\n",
       "      <td>53790.000000</td>\n",
       "      <td>53790.000000</td>\n",
       "      <td>53790.000000</td>\n",
       "      <td>53790.000000</td>\n",
       "      <td>53790.000000</td>\n",
       "      <td>53790.0</td>\n",
       "      <td>53790.000000</td>\n",
       "      <td>53790.000000</td>\n",
       "      <td>53790.000000</td>\n",
       "      <td>53790.000000</td>\n",
       "    </tr>\n",
       "    <tr>\n",
       "      <th>mean</th>\n",
       "      <td>0.792706</td>\n",
       "      <td>61.747302</td>\n",
       "      <td>57.455038</td>\n",
       "      <td>3902.795166</td>\n",
       "      <td>5.722655</td>\n",
       "      <td>5.726193</td>\n",
       "      <td>3.533456</td>\n",
       "      <td>7.781905</td>\n",
       "      <td>-0.398713</td>\n",
       "      <td>1.0</td>\n",
       "      <td>7.781903</td>\n",
       "      <td>0.000002</td>\n",
       "      <td>7.781903</td>\n",
       "      <td>3771.262174</td>\n",
       "    </tr>\n",
       "    <tr>\n",
       "      <th>std</th>\n",
       "      <td>0.463139</td>\n",
       "      <td>1.429321</td>\n",
       "      <td>2.233615</td>\n",
       "      <td>3948.688790</td>\n",
       "      <td>1.110945</td>\n",
       "      <td>1.132063</td>\n",
       "      <td>0.698664</td>\n",
       "      <td>1.011622</td>\n",
       "      <td>0.581096</td>\n",
       "      <td>0.0</td>\n",
       "      <td>0.977366</td>\n",
       "      <td>0.261019</td>\n",
       "      <td>0.977366</td>\n",
       "      <td>3700.261001</td>\n",
       "    </tr>\n",
       "    <tr>\n",
       "      <th>min</th>\n",
       "      <td>0.200000</td>\n",
       "      <td>43.000000</td>\n",
       "      <td>43.000000</td>\n",
       "      <td>326.000000</td>\n",
       "      <td>0.000000</td>\n",
       "      <td>0.000000</td>\n",
       "      <td>0.000000</td>\n",
       "      <td>5.786897</td>\n",
       "      <td>-1.609438</td>\n",
       "      <td>1.0</td>\n",
       "      <td>5.745541</td>\n",
       "      <td>-1.361775</td>\n",
       "      <td>5.745541</td>\n",
       "      <td>312.792742</td>\n",
       "    </tr>\n",
       "    <tr>\n",
       "      <th>25%</th>\n",
       "      <td>0.400000</td>\n",
       "      <td>61.000000</td>\n",
       "      <td>56.000000</td>\n",
       "      <td>947.250000</td>\n",
       "      <td>4.710000</td>\n",
       "      <td>4.720000</td>\n",
       "      <td>2.910000</td>\n",
       "      <td>6.853563</td>\n",
       "      <td>-0.916291</td>\n",
       "      <td>1.0</td>\n",
       "      <td>6.911370</td>\n",
       "      <td>-0.170112</td>\n",
       "      <td>6.911370</td>\n",
       "      <td>1003.621032</td>\n",
       "    </tr>\n",
       "    <tr>\n",
       "      <th>50%</th>\n",
       "      <td>0.700000</td>\n",
       "      <td>61.800000</td>\n",
       "      <td>57.000000</td>\n",
       "      <td>2395.000000</td>\n",
       "      <td>5.690000</td>\n",
       "      <td>5.710000</td>\n",
       "      <td>3.520000</td>\n",
       "      <td>7.781139</td>\n",
       "      <td>-0.356675</td>\n",
       "      <td>1.0</td>\n",
       "      <td>7.852608</td>\n",
       "      <td>-0.006029</td>\n",
       "      <td>7.852608</td>\n",
       "      <td>2572.433260</td>\n",
       "    </tr>\n",
       "    <tr>\n",
       "      <th>75%</th>\n",
       "      <td>1.040000</td>\n",
       "      <td>62.500000</td>\n",
       "      <td>59.000000</td>\n",
       "      <td>5292.000000</td>\n",
       "      <td>6.540000</td>\n",
       "      <td>6.530000</td>\n",
       "      <td>4.030000</td>\n",
       "      <td>8.573952</td>\n",
       "      <td>0.039221</td>\n",
       "      <td>1.0</td>\n",
       "      <td>8.518479</td>\n",
       "      <td>0.165904</td>\n",
       "      <td>8.518479</td>\n",
       "      <td>5006.430921</td>\n",
       "    </tr>\n",
       "    <tr>\n",
       "      <th>max</th>\n",
       "      <td>2.490000</td>\n",
       "      <td>79.000000</td>\n",
       "      <td>95.000000</td>\n",
       "      <td>18823.000000</td>\n",
       "      <td>8.890000</td>\n",
       "      <td>58.900000</td>\n",
       "      <td>31.800000</td>\n",
       "      <td>9.842835</td>\n",
       "      <td>0.912283</td>\n",
       "      <td>1.0</td>\n",
       "      <td>9.986913</td>\n",
       "      <td>1.341449</td>\n",
       "      <td>9.986913</td>\n",
       "      <td>21740.076097</td>\n",
       "    </tr>\n",
       "  </tbody>\n",
       "</table>\n",
       "</div>"
      ],
      "text/plain": [
       "              carat         depth         table         price             x  \\\n",
       "count  53790.000000  53790.000000  53790.000000  53790.000000  53790.000000   \n",
       "mean       0.792706     61.747302     57.455038   3902.795166      5.722655   \n",
       "std        0.463139      1.429321      2.233615   3948.688790      1.110945   \n",
       "min        0.200000     43.000000     43.000000    326.000000      0.000000   \n",
       "25%        0.400000     61.000000     56.000000    947.250000      4.710000   \n",
       "50%        0.700000     61.800000     57.000000   2395.000000      5.690000   \n",
       "75%        1.040000     62.500000     59.000000   5292.000000      6.540000   \n",
       "max        2.490000     79.000000     95.000000  18823.000000      8.890000   \n",
       "\n",
       "                  y             z        lprice        lcarat    const  \\\n",
       "count  53790.000000  53790.000000  53790.000000  53790.000000  53790.0   \n",
       "mean       5.726193      3.533456      7.781905     -0.398713      1.0   \n",
       "std        1.132063      0.698664      1.011622      0.581096      0.0   \n",
       "min        0.000000      0.000000      5.786897     -1.609438      1.0   \n",
       "25%        4.720000      2.910000      6.853563     -0.916291      1.0   \n",
       "50%        5.710000      3.520000      7.781139     -0.356675      1.0   \n",
       "75%        6.530000      4.030000      8.573952      0.039221      1.0   \n",
       "max       58.900000     31.800000      9.842835      0.912283      1.0   \n",
       "\n",
       "       lprice_predicted    residuals1  lprice_predicted1  price_predicted1  \n",
       "count      53790.000000  53790.000000       53790.000000      53790.000000  \n",
       "mean           7.781903      0.000002           7.781903       3771.262174  \n",
       "std            0.977366      0.261019           0.977366       3700.261001  \n",
       "min            5.745541     -1.361775           5.745541        312.792742  \n",
       "25%            6.911370     -0.170112           6.911370       1003.621032  \n",
       "50%            7.852608     -0.006029           7.852608       2572.433260  \n",
       "75%            8.518479      0.165904           8.518479       5006.430921  \n",
       "max            9.986913      1.341449           9.986913      21740.076097  "
      ]
     },
     "execution_count": 11,
     "metadata": {},
     "output_type": "execute_result"
    },
    {
     "data": {
      "image/png": "[encoded data removed]",
      "text/plain": [
       "<Figure size 432x288 with 1 Axes>"
      ]
     },
     "metadata": {
      "needs_background": "light"
     },
     "output_type": "display_data"
    }
   ],
   "source": [
    "sns.scatterplot(data=diamonds2.sample(700),x='lcarat',y='residuals1')\n",
    "\n",
    "diamonds2.iloc[:-7:].describe()"
   ]
  },
  {
   "cell_type": "code",
   "execution_count": 7,
   "metadata": {},
   "outputs": [
    {
     "data": {
      "text/plain": [
       "<matplotlib.axes._subplots.AxesSubplot at 0x266ed45b1c8>"
      ]
     },
     "execution_count": 7,
     "metadata": {},
     "output_type": "execute_result"
    },
    {
     "data": {
      "image/png": "[encoded data removed]",
      "text/plain": [
       "<Figure size 432x288 with 1 Axes>"
      ]
     },
     "metadata": {
      "needs_background": "light"
     },
     "output_type": "display_data"
    }
   ],
   "source": [
    "# taking logs helps you model non linear relationship, reduce outliers, normalize distr that aren't normal\n",
    "sns.regplot(data=diamonds2.sample(1000),x='lcarat',y='lprice',line_kws={'color':'red'})"
   ]
  },
  {
   "cell_type": "markdown",
   "metadata": {},
   "source": [
    "## mystery"
   ]
  },
  {
   "cell_type": "code",
   "execution_count": 13,
   "metadata": {},
   "outputs": [],
   "source": [
    "# fair vs ideal diamonds"
   ]
  },
  {
   "cell_type": "markdown",
   "metadata": {},
   "source": [
    "## Don's fave regression"
   ]
  },
  {
   "cell_type": "code",
   "execution_count": 14,
   "metadata": {},
   "outputs": [
    {
     "name": "stdout",
     "output_type": "stream",
     "text": [
      "                            OLS Regression Results                            \n",
      "==============================================================================\n",
      "Dep. Variable:                 lprice   R-squared:                       0.933\n",
      "Model:                            OLS   Adj. R-squared:                  0.933\n",
      "Method:                 Least Squares   F-statistic:                 7.542e+05\n",
      "Date:                Tue, 24 Mar 2020   Prob (F-statistic):               0.00\n",
      "Time:                        12:51:32   Log-Likelihood:                -4073.2\n",
      "No. Observations:               53797   AIC:                             8150.\n",
      "Df Residuals:                   53795   BIC:                             8168.\n",
      "Df Model:                           1                                         \n",
      "Covariance Type:            nonrobust                                         \n",
      "==============================================================================\n",
      "                 coef    std err          t      P>|t|      [0.025      0.975]\n",
      "------------------------------------------------------------------------------\n",
      "Intercept      8.4525      0.001   6193.432      0.000       8.450       8.455\n",
      "lcarat         1.6819      0.002    868.465      0.000       1.678       1.686\n",
      "==============================================================================\n",
      "Omnibus:                      775.052   Durbin-Watson:                   1.211\n",
      "Prob(Omnibus):                  0.000   Jarque-Bera (JB):             1334.265\n",
      "Skew:                           0.106   Prob(JB):                    1.85e-290\n",
      "Kurtosis:                       3.742   Cond. No.                         2.10\n",
      "==============================================================================\n",
      "\n",
      "Warnings:\n",
      "[1] Standard Errors assume that the covariance matrix of the errors is correctly specified.\n"
     ]
    }
   ],
   "source": [
    "from statsmodels.formula.api import ols as sm_ols\n",
    "\n",
    "# sm_ols(y_var TILDE any x_vars you want)\n",
    "model2   = sm_ols('lprice ~ lcarat',  # specify model (you don't need to include the constant!)\n",
    "                  data=diamonds2)\n",
    "results2 = model2.fit()               # estimate / fit\n",
    "print(results2.summary())             # view results ... identical to before\n",
    "\n",
    "# the prediction and residual and plotting are the exact same"
   ]
  },
  {
   "cell_type": "code",
   "execution_count": 16,
   "metadata": {},
   "outputs": [
    {
     "data": {
      "text/html": [
       "<table class=\"simpletable\">\n",
       "<caption>OLS Regression Results</caption>\n",
       "<tr>\n",
       "  <th>Dep. Variable:</th>         <td>lprice</td>      <th>  R-squared:         </th> <td>   0.936</td> \n",
       "</tr>\n",
       "<tr>\n",
       "  <th>Model:</th>                   <td>OLS</td>       <th>  Adj. R-squared:    </th> <td>   0.936</td> \n",
       "</tr>\n",
       "<tr>\n",
       "  <th>Method:</th>             <td>Least Squares</td>  <th>  F-statistic:       </th> <td>3.914e+05</td>\n",
       "</tr>\n",
       "<tr>\n",
       "  <th>Date:</th>             <td>Tue, 24 Mar 2020</td> <th>  Prob (F-statistic):</th>  <td>  0.00</td>  \n",
       "</tr>\n",
       "<tr>\n",
       "  <th>Time:</th>                 <td>12:55:50</td>     <th>  Log-Likelihood:    </th> <td> -3136.4</td> \n",
       "</tr>\n",
       "<tr>\n",
       "  <th>No. Observations:</th>      <td> 53797</td>      <th>  AIC:               </th> <td>   6279.</td> \n",
       "</tr>\n",
       "<tr>\n",
       "  <th>Df Residuals:</th>          <td> 53794</td>      <th>  BIC:               </th> <td>   6306.</td> \n",
       "</tr>\n",
       "<tr>\n",
       "  <th>Df Model:</th>              <td>     2</td>      <th>                     </th>     <td> </td>    \n",
       "</tr>\n",
       "<tr>\n",
       "  <th>Covariance Type:</th>      <td>nonrobust</td>    <th>                     </th>     <td> </td>    \n",
       "</tr>\n",
       "</table>\n",
       "<table class=\"simpletable\">\n",
       "<tr>\n",
       "        <td></td>           <th>coef</th>     <th>std err</th>      <th>t</th>      <th>P>|t|</th>  <th>[0.025</th>    <th>0.975]</th>  \n",
       "</tr>\n",
       "<tr>\n",
       "  <th>Intercept</th>     <td>    8.4182</td> <td>    0.002</td> <td> 5415.779</td> <td> 0.000</td> <td>    8.415</td> <td>    8.421</td>\n",
       "</tr>\n",
       "<tr>\n",
       "  <th>ideal[T.True]</th> <td>    0.1000</td> <td>    0.002</td> <td>   43.662</td> <td> 0.000</td> <td>    0.096</td> <td>    0.105</td>\n",
       "</tr>\n",
       "<tr>\n",
       "  <th>lcarat</th>        <td>    1.6963</td> <td>    0.002</td> <td>  878.286</td> <td> 0.000</td> <td>    1.692</td> <td>    1.700</td>\n",
       "</tr>\n",
       "</table>\n",
       "<table class=\"simpletable\">\n",
       "<tr>\n",
       "  <th>Omnibus:</th>       <td>794.680</td> <th>  Durbin-Watson:     </th> <td>   1.241</td> \n",
       "</tr>\n",
       "<tr>\n",
       "  <th>Prob(Omnibus):</th> <td> 0.000</td>  <th>  Jarque-Bera (JB):  </th> <td>1394.941</td> \n",
       "</tr>\n",
       "<tr>\n",
       "  <th>Skew:</th>          <td> 0.101</td>  <th>  Prob(JB):          </th> <td>1.24e-303</td>\n",
       "</tr>\n",
       "<tr>\n",
       "  <th>Kurtosis:</th>      <td> 3.763</td>  <th>  Cond. No.          </th> <td>    2.67</td> \n",
       "</tr>\n",
       "</table><br/><br/>Warnings:<br/>[1] Standard Errors assume that the covariance matrix of the errors is correctly specified."
      ],
      "text/plain": [
       "<class 'statsmodels.iolib.summary.Summary'>\n",
       "\"\"\"\n",
       "                            OLS Regression Results                            \n",
       "==============================================================================\n",
       "Dep. Variable:                 lprice   R-squared:                       0.936\n",
       "Model:                            OLS   Adj. R-squared:                  0.936\n",
       "Method:                 Least Squares   F-statistic:                 3.914e+05\n",
       "Date:                Tue, 24 Mar 2020   Prob (F-statistic):               0.00\n",
       "Time:                        12:55:50   Log-Likelihood:                -3136.4\n",
       "No. Observations:               53797   AIC:                             6279.\n",
       "Df Residuals:                   53794   BIC:                             6306.\n",
       "Df Model:                           2                                         \n",
       "Covariance Type:            nonrobust                                         \n",
       "=================================================================================\n",
       "                    coef    std err          t      P>|t|      [0.025      0.975]\n",
       "---------------------------------------------------------------------------------\n",
       "Intercept         8.4182      0.002   5415.779      0.000       8.415       8.421\n",
       "ideal[T.True]     0.1000      0.002     43.662      0.000       0.096       0.105\n",
       "lcarat            1.6963      0.002    878.286      0.000       1.692       1.700\n",
       "==============================================================================\n",
       "Omnibus:                      794.680   Durbin-Watson:                   1.241\n",
       "Prob(Omnibus):                  0.000   Jarque-Bera (JB):             1394.941\n",
       "Skew:                           0.101   Prob(JB):                    1.24e-303\n",
       "Kurtosis:                       3.763   Cond. No.                         2.67\n",
       "==============================================================================\n",
       "\n",
       "Warnings:\n",
       "[1] Standard Errors assume that the covariance matrix of the errors is correctly specified.\n",
       "\"\"\""
      ]
     },
     "execution_count": 16,
     "metadata": {},
     "output_type": "execute_result"
    }
   ],
   "source": [
    "sm_ols('lprice ~ lcarat + ideal', data=diamonds2).fit().summary()"
   ]
  },
  {
   "cell_type": "code",
   "execution_count": 17,
   "metadata": {},
   "outputs": [
    {
     "data": {
      "text/html": [
       "<table class=\"simpletable\">\n",
       "<caption>OLS Regression Results</caption>\n",
       "<tr>\n",
       "  <th>Dep. Variable:</th>         <td>lprice</td>      <th>  R-squared:         </th> <td>   0.936</td> \n",
       "</tr>\n",
       "<tr>\n",
       "  <th>Model:</th>                   <td>OLS</td>       <th>  Adj. R-squared:    </th> <td>   0.936</td> \n",
       "</tr>\n",
       "<tr>\n",
       "  <th>Method:</th>             <td>Least Squares</td>  <th>  F-statistic:       </th> <td>3.914e+05</td>\n",
       "</tr>\n",
       "<tr>\n",
       "  <th>Date:</th>             <td>Tue, 24 Mar 2020</td> <th>  Prob (F-statistic):</th>  <td>  0.00</td>  \n",
       "</tr>\n",
       "<tr>\n",
       "  <th>Time:</th>                 <td>13:00:03</td>     <th>  Log-Likelihood:    </th> <td> -3136.4</td> \n",
       "</tr>\n",
       "<tr>\n",
       "  <th>No. Observations:</th>      <td> 53797</td>      <th>  AIC:               </th> <td>   6279.</td> \n",
       "</tr>\n",
       "<tr>\n",
       "  <th>Df Residuals:</th>          <td> 53794</td>      <th>  BIC:               </th> <td>   6306.</td> \n",
       "</tr>\n",
       "<tr>\n",
       "  <th>Df Model:</th>              <td>     2</td>      <th>                     </th>     <td> </td>    \n",
       "</tr>\n",
       "<tr>\n",
       "  <th>Covariance Type:</th>      <td>nonrobust</td>    <th>                     </th>     <td> </td>    \n",
       "</tr>\n",
       "</table>\n",
       "<table class=\"simpletable\">\n",
       "<tr>\n",
       "        <td></td>           <th>coef</th>     <th>std err</th>      <th>t</th>      <th>P>|t|</th>  <th>[0.025</th>    <th>0.975]</th>  \n",
       "</tr>\n",
       "<tr>\n",
       "  <th>Intercept</th>     <td>    8.4182</td> <td>    0.002</td> <td> 5415.779</td> <td> 0.000</td> <td>    8.415</td> <td>    8.421</td>\n",
       "</tr>\n",
       "<tr>\n",
       "  <th>ideal[T.True]</th> <td>    0.1000</td> <td>    0.002</td> <td>   43.662</td> <td> 0.000</td> <td>    0.096</td> <td>    0.105</td>\n",
       "</tr>\n",
       "<tr>\n",
       "  <th>lcarat</th>        <td>    1.6963</td> <td>    0.002</td> <td>  878.286</td> <td> 0.000</td> <td>    1.692</td> <td>    1.700</td>\n",
       "</tr>\n",
       "</table>\n",
       "<table class=\"simpletable\">\n",
       "<tr>\n",
       "  <th>Omnibus:</th>       <td>794.680</td> <th>  Durbin-Watson:     </th> <td>   1.241</td> \n",
       "</tr>\n",
       "<tr>\n",
       "  <th>Prob(Omnibus):</th> <td> 0.000</td>  <th>  Jarque-Bera (JB):  </th> <td>1394.941</td> \n",
       "</tr>\n",
       "<tr>\n",
       "  <th>Skew:</th>          <td> 0.101</td>  <th>  Prob(JB):          </th> <td>1.24e-303</td>\n",
       "</tr>\n",
       "<tr>\n",
       "  <th>Kurtosis:</th>      <td> 3.763</td>  <th>  Cond. No.          </th> <td>    2.67</td> \n",
       "</tr>\n",
       "</table><br/><br/>Warnings:<br/>[1] Standard Errors assume that the covariance matrix of the errors is correctly specified."
      ],
      "text/plain": [
       "<class 'statsmodels.iolib.summary.Summary'>\n",
       "\"\"\"\n",
       "                            OLS Regression Results                            \n",
       "==============================================================================\n",
       "Dep. Variable:                 lprice   R-squared:                       0.936\n",
       "Model:                            OLS   Adj. R-squared:                  0.936\n",
       "Method:                 Least Squares   F-statistic:                 3.914e+05\n",
       "Date:                Tue, 24 Mar 2020   Prob (F-statistic):               0.00\n",
       "Time:                        13:00:03   Log-Likelihood:                -3136.4\n",
       "No. Observations:               53797   AIC:                             6279.\n",
       "Df Residuals:                   53794   BIC:                             6306.\n",
       "Df Model:                           2                                         \n",
       "Covariance Type:            nonrobust                                         \n",
       "=================================================================================\n",
       "                    coef    std err          t      P>|t|      [0.025      0.975]\n",
       "---------------------------------------------------------------------------------\n",
       "Intercept         8.4182      0.002   5415.779      0.000       8.415       8.421\n",
       "ideal[T.True]     0.1000      0.002     43.662      0.000       0.096       0.105\n",
       "lcarat            1.6963      0.002    878.286      0.000       1.692       1.700\n",
       "==============================================================================\n",
       "Omnibus:                      794.680   Durbin-Watson:                   1.241\n",
       "Prob(Omnibus):                  0.000   Jarque-Bera (JB):             1394.941\n",
       "Skew:                           0.101   Prob(JB):                    1.24e-303\n",
       "Kurtosis:                       3.763   Cond. No.                         2.67\n",
       "==============================================================================\n",
       "\n",
       "Warnings:\n",
       "[1] Standard Errors assume that the covariance matrix of the errors is correctly specified.\n",
       "\"\"\""
      ]
     },
     "execution_count": 17,
     "metadata": {},
     "output_type": "execute_result"
    }
   ],
   "source": [
    "# new one\n",
    "sm_ols('lprice ~ lcarat + ideal', data=diamonds2).fit().summary()\n",
    "# interpretation of "
   ]
  },
  {
   "cell_type": "code",
   "execution_count": 20,
   "metadata": {},
   "outputs": [
    {
     "name": "stdout",
     "output_type": "stream",
     "text": [
      "117.0\n",
      "162.4\n"
     ]
    }
   ],
   "source": [
    "print(.5*249-.1*75)\n",
    "print(.5*340-.1*76)"
   ]
  },
  {
   "cell_type": "markdown",
   "metadata": {},
   "source": [
    "### categorical variables!"
   ]
  },
  {
   "cell_type": "code",
   "execution_count": 22,
   "metadata": {},
   "outputs": [
    {
     "data": {
      "text/html": [
       "<table class=\"simpletable\">\n",
       "<caption>OLS Regression Results</caption>\n",
       "<tr>\n",
       "  <th>Dep. Variable:</th>         <td>lprice</td>      <th>  R-squared:         </th> <td>   0.937</td> \n",
       "</tr>\n",
       "<tr>\n",
       "  <th>Model:</th>                   <td>OLS</td>       <th>  Adj. R-squared:    </th> <td>   0.937</td> \n",
       "</tr>\n",
       "<tr>\n",
       "  <th>Method:</th>             <td>Least Squares</td>  <th>  F-statistic:       </th> <td>1.613e+05</td>\n",
       "</tr>\n",
       "<tr>\n",
       "  <th>Date:</th>             <td>Tue, 24 Mar 2020</td> <th>  Prob (F-statistic):</th>  <td>  0.00</td>  \n",
       "</tr>\n",
       "<tr>\n",
       "  <th>Time:</th>                 <td>13:11:27</td>     <th>  Log-Likelihood:    </th> <td> -2389.9</td> \n",
       "</tr>\n",
       "<tr>\n",
       "  <th>No. Observations:</th>      <td> 53797</td>      <th>  AIC:               </th> <td>   4792.</td> \n",
       "</tr>\n",
       "<tr>\n",
       "  <th>Df Residuals:</th>          <td> 53791</td>      <th>  BIC:               </th> <td>   4845.</td> \n",
       "</tr>\n",
       "<tr>\n",
       "  <th>Df Model:</th>              <td>     5</td>      <th>                     </th>     <td> </td>    \n",
       "</tr>\n",
       "<tr>\n",
       "  <th>Covariance Type:</th>      <td>nonrobust</td>    <th>                     </th>     <td> </td>    \n",
       "</tr>\n",
       "</table>\n",
       "<table class=\"simpletable\">\n",
       "<tr>\n",
       "          <td></td>            <th>coef</th>     <th>std err</th>      <th>t</th>      <th>P>|t|</th>  <th>[0.025</th>    <th>0.975]</th>  \n",
       "</tr>\n",
       "<tr>\n",
       "  <th>Intercept</th>        <td>    8.2097</td> <td>    0.006</td> <td> 1290.380</td> <td> 0.000</td> <td>    8.197</td> <td>    8.222</td>\n",
       "</tr>\n",
       "<tr>\n",
       "  <th>cut[T.Good]</th>      <td>    0.1568</td> <td>    0.007</td> <td>   21.392</td> <td> 0.000</td> <td>    0.142</td> <td>    0.171</td>\n",
       "</tr>\n",
       "<tr>\n",
       "  <th>cut[T.Ideal]</th>     <td>    0.3111</td> <td>    0.007</td> <td>   46.838</td> <td> 0.000</td> <td>    0.298</td> <td>    0.324</td>\n",
       "</tr>\n",
       "<tr>\n",
       "  <th>cut[T.Premium]</th>   <td>    0.2321</td> <td>    0.007</td> <td>   34.501</td> <td> 0.000</td> <td>    0.219</td> <td>    0.245</td>\n",
       "</tr>\n",
       "<tr>\n",
       "  <th>cut[T.Very Good]</th> <td>    0.2341</td> <td>    0.007</td> <td>   34.486</td> <td> 0.000</td> <td>    0.221</td> <td>    0.247</td>\n",
       "</tr>\n",
       "<tr>\n",
       "  <th>lcarat</th>           <td>    1.7014</td> <td>    0.002</td> <td>  889.548</td> <td> 0.000</td> <td>    1.698</td> <td>    1.705</td>\n",
       "</tr>\n",
       "</table>\n",
       "<table class=\"simpletable\">\n",
       "<tr>\n",
       "  <th>Omnibus:</th>       <td>792.280</td> <th>  Durbin-Watson:     </th> <td>   1.261</td> \n",
       "</tr>\n",
       "<tr>\n",
       "  <th>Prob(Omnibus):</th> <td> 0.000</td>  <th>  Jarque-Bera (JB):  </th> <td>1178.654</td> \n",
       "</tr>\n",
       "<tr>\n",
       "  <th>Skew:</th>          <td> 0.168</td>  <th>  Prob(JB):          </th> <td>1.14e-256</td>\n",
       "</tr>\n",
       "<tr>\n",
       "  <th>Kurtosis:</th>      <td> 3.643</td>  <th>  Cond. No.          </th> <td>    16.3</td> \n",
       "</tr>\n",
       "</table><br/><br/>Warnings:<br/>[1] Standard Errors assume that the covariance matrix of the errors is correctly specified."
      ],
      "text/plain": [
       "<class 'statsmodels.iolib.summary.Summary'>\n",
       "\"\"\"\n",
       "                            OLS Regression Results                            \n",
       "==============================================================================\n",
       "Dep. Variable:                 lprice   R-squared:                       0.937\n",
       "Model:                            OLS   Adj. R-squared:                  0.937\n",
       "Method:                 Least Squares   F-statistic:                 1.613e+05\n",
       "Date:                Tue, 24 Mar 2020   Prob (F-statistic):               0.00\n",
       "Time:                        13:11:27   Log-Likelihood:                -2389.9\n",
       "No. Observations:               53797   AIC:                             4792.\n",
       "Df Residuals:                   53791   BIC:                             4845.\n",
       "Df Model:                           5                                         \n",
       "Covariance Type:            nonrobust                                         \n",
       "====================================================================================\n",
       "                       coef    std err          t      P>|t|      [0.025      0.975]\n",
       "------------------------------------------------------------------------------------\n",
       "Intercept            8.2097      0.006   1290.380      0.000       8.197       8.222\n",
       "cut[T.Good]          0.1568      0.007     21.392      0.000       0.142       0.171\n",
       "cut[T.Ideal]         0.3111      0.007     46.838      0.000       0.298       0.324\n",
       "cut[T.Premium]       0.2321      0.007     34.501      0.000       0.219       0.245\n",
       "cut[T.Very Good]     0.2341      0.007     34.486      0.000       0.221       0.247\n",
       "lcarat               1.7014      0.002    889.548      0.000       1.698       1.705\n",
       "==============================================================================\n",
       "Omnibus:                      792.280   Durbin-Watson:                   1.261\n",
       "Prob(Omnibus):                  0.000   Jarque-Bera (JB):             1178.654\n",
       "Skew:                           0.168   Prob(JB):                    1.14e-256\n",
       "Kurtosis:                       3.643   Cond. No.                         16.3\n",
       "==============================================================================\n",
       "\n",
       "Warnings:\n",
       "[1] Standard Errors assume that the covariance matrix of the errors is correctly specified.\n",
       "\"\"\""
      ]
     },
     "execution_count": 22,
     "metadata": {},
     "output_type": "execute_result"
    }
   ],
   "source": [
    "sm_ols('lprice ~ lcarat + cut', data=diamonds2).fit().summary()"
   ]
  },
  {
   "cell_type": "code",
   "execution_count": 25,
   "metadata": {},
   "outputs": [
    {
     "data": {
      "text/plain": [
       "cut\n",
       "Fair         8.068832\n",
       "Good         7.836076\n",
       "Ideal        7.636921\n",
       "Premium      7.944690\n",
       "Very Good    7.795675\n",
       "Name: lprice, dtype: float64"
      ]
     },
     "execution_count": 25,
     "metadata": {},
     "output_type": "execute_result"
    }
   ],
   "source": [
    "diamonds2.groupby('cut')['lprice'].mean() # avg lprice by cut"
   ]
  },
  {
   "cell_type": "markdown",
   "metadata": {},
   "source": [
    "## read lecture page"
   ]
  }
 ],
 "metadata": {
  "kernelspec": {
   "display_name": "Python 3",
   "language": "python",
   "name": "python3"
  },
  "language_info": {
   "codemirror_mode": {
    "name": "ipython",
    "version": 3
   },
   "file_extension": ".py",
   "mimetype": "text/x-python",
   "name": "python",
   "nbconvert_exporter": "python",
   "pygments_lexer": "ipython3",
   "version": "3.7.4"
  }
 },
 "nbformat": 4,
 "nbformat_minor": 2
}
