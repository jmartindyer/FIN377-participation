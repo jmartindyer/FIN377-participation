{
 "cells": [
  {
   "cell_type": "code",
   "execution_count": 30,
   "metadata": {},
   "outputs": [
    {
     "name": "stdout",
     "output_type": "stream",
     "text": [
      "Requirement already satisfied: requests_html in c:\\users\\juan gabriel\\anaconda3\\lib\\site-packages (0.10.0)\n",
      "Requirement already satisfied: pyquery in c:\\users\\juan gabriel\\anaconda3\\lib\\site-packages (from requests_html) (1.4.1)\n",
      "Requirement already satisfied: fake-useragent in c:\\users\\juan gabriel\\anaconda3\\lib\\site-packages (from requests_html) (0.1.11)\n",
      "Requirement already satisfied: w3lib in c:\\users\\juan gabriel\\anaconda3\\lib\\site-packages (from requests_html) (1.21.0)\n",
      "Requirement already satisfied: bs4 in c:\\users\\juan gabriel\\anaconda3\\lib\\site-packages (from requests_html) (0.0.1)\n",
      "Requirement already satisfied: requests in c:\\users\\juan gabriel\\anaconda3\\lib\\site-packages (from requests_html) (2.22.0)\n",
      "Requirement already satisfied: parse in c:\\users\\juan gabriel\\anaconda3\\lib\\site-packages (from requests_html) (1.14.0)\n",
      "Requirement already satisfied: pyppeteer>=0.0.14 in c:\\users\\juan gabriel\\anaconda3\\lib\\site-packages (from requests_html) (0.0.25)\n",
      "Requirement already satisfied: cssselect>0.7.9 in c:\\users\\juan gabriel\\anaconda3\\lib\\site-packages (from pyquery->requests_html) (1.1.0)\n",
      "Requirement already satisfied: lxml>=2.1 in c:\\users\\juan gabriel\\anaconda3\\lib\\site-packages (from pyquery->requests_html) (4.4.2)\n",
      "Requirement already satisfied: six>=1.4.1 in c:\\users\\juan gabriel\\anaconda3\\lib\\site-packages (from w3lib->requests_html) (1.13.0)\n",
      "Requirement already satisfied: beautifulsoup4 in c:\\users\\juan gabriel\\anaconda3\\lib\\site-packages (from bs4->requests_html) (4.8.2)\n",
      "Requirement already satisfied: idna<2.9,>=2.5 in c:\\users\\juan gabriel\\anaconda3\\lib\\site-packages (from requests->requests_html) (2.8)\n",
      "Requirement already satisfied: urllib3!=1.25.0,!=1.25.1,<1.26,>=1.21.1 in c:\\users\\juan gabriel\\anaconda3\\lib\\site-packages (from requests->requests_html) (1.25.7)\n",
      "Requirement already satisfied: certifi>=2017.4.17 in c:\\users\\juan gabriel\\anaconda3\\lib\\site-packages (from requests->requests_html) (2019.11.28)\n",
      "Requirement already satisfied: chardet<3.1.0,>=3.0.2 in c:\\users\\juan gabriel\\anaconda3\\lib\\site-packages (from requests->requests_html) (3.0.4)\n",
      "Requirement already satisfied: pyee in c:\\users\\juan gabriel\\anaconda3\\lib\\site-packages (from pyppeteer>=0.0.14->requests_html) (7.0.1)\n",
      "Requirement already satisfied: websockets in c:\\users\\juan gabriel\\anaconda3\\lib\\site-packages (from pyppeteer>=0.0.14->requests_html) (8.1)\n",
      "Requirement already satisfied: appdirs in c:\\users\\juan gabriel\\anaconda3\\lib\\site-packages (from pyppeteer>=0.0.14->requests_html) (1.4.3)\n",
      "Requirement already satisfied: tqdm in c:\\users\\juan gabriel\\anaconda3\\lib\\site-packages (from pyppeteer>=0.0.14->requests_html) (4.41.1)\n",
      "Requirement already satisfied: soupsieve>=1.2 in c:\\users\\juan gabriel\\anaconda3\\lib\\site-packages (from beautifulsoup4->bs4->requests_html) (1.9.5)\n"
     ]
    }
   ],
   "source": [
    "!pip install requests_html"
   ]
  },
  {
   "cell_type": "code",
   "execution_count": 40,
   "metadata": {},
   "outputs": [],
   "source": [
    "import pandas as pd\n",
    "from requests_html import HTMLSession\n",
    "session = HTMLSession()\n",
    "url = 'https://en.wikipedia.org/wiki/List_of_S%26P_500_companies'\n",
    "r = session.get(url)\n",
    "r\n",
    "\n",
    "# find links\n",
    "r.html.absolute_links # full links\n",
    "table = r.html.find('#constituents')[0] # reduce to table\n",
    "table_rows = table.find('tr')[1:]\n",
    "colinks = []\n",
    "for row in table_rows:\n",
    "    a_url = list(row.find('td')[1].absolute_links)[0]\n",
    "    colinks.append(a_url)"
   ]
  },
  {
   "cell_type": "code",
   "execution_count": 41,
   "metadata": {},
   "outputs": [
    {
     "data": {
      "text/plain": [
       "505"
      ]
     },
     "execution_count": 41,
     "metadata": {},
     "output_type": "execute_result"
    }
   ],
   "source": [
    "len(colinks)    "
   ]
  }
 ],
 "metadata": {
  "kernelspec": {
   "display_name": "Python 3",
   "language": "python",
   "name": "python3"
  },
  "language_info": {
   "codemirror_mode": {
    "name": "ipython",
    "version": 3
   },
   "file_extension": ".py",
   "mimetype": "text/x-python",
   "name": "python",
   "nbconvert_exporter": "python",
   "pygments_lexer": "ipython3",
   "version": "3.7.4"
  }
 },
 "nbformat": 4,
 "nbformat_minor": 2
}
