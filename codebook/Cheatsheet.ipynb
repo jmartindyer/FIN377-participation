{
 "cells": [
  {
   "cell_type": "markdown",
   "metadata": {},
   "source": [
    "# There are \"two\" ways to call a function\n",
    "1. `object.function(<arguments)`\n",
    "2. `function(object,<arguments>)`"
   ]
  },
  {
   "cell_type": "code",
   "execution_count": null,
   "metadata": {},
   "outputs": [],
   "source": []
  },
  {
   "cell_type": "code",
   "execution_count": null,
   "metadata": {},
   "outputs": [],
   "source": [
    "= and == are not the same\n",
    "x =  [1,2,3]\n",
    "x == [1,2,3]"
   ]
  },
  {
   "cell_type": "markdown",
   "metadata": {},
   "source": [
    "Warnings"
   ]
  },
  {
   "cell_type": "code",
   "execution_count": null,
   "metadata": {},
   "outputs": [],
   "source": [
    "is and == are not the same\n",
    "\n",
    "x = y # BAD! don't create variables that are equal to each other\n",
    "\n",
    "variables are pointers to create duplicate, DUPLICATE!\n",
    "\n",
    "float equality is a weird thing\n",
    "\n",
    "print everything and often\n",
    "\n",
    "always use a \"seed\" with \"random\" functions"
   ]
  },
  {
   "cell_type": "markdown",
   "metadata": {},
   "source": [
    "## Pandas vocab\n",
    "\n",
    "see pandas lecture\n",
    "first variables\n",
    "are key. Keys are unique and non-missing\n",
    "observations x variables\n",
    "index\n",
    "\n",
    "## tips \n",
    "keep your data long as possible"
   ]
  },
  {
   "cell_type": "code",
   "execution_count": 1,
   "metadata": {},
   "outputs": [
    {
     "name": "stdout",
     "output_type": "stream",
     "text": [
      "True\n",
      "False\n",
      "True\n"
     ]
    }
   ],
   "source": [
    "list1 = [] \n",
    "list2 = [] \n",
    "list3=list1 \n",
    "print(list1 == list2)\n",
    "print(list1 is list2)\n",
    "print(list1 is list3)"
   ]
  },
  {
   "cell_type": "markdown",
   "metadata": {},
   "source": [
    "Data Structures\n",
    "1. lists, define with brackets `x=[1,2,3]`\n",
    "2. tuples, define with parens `x=(1,2,3)`\n",
    "3. sets\n",
    "4. dictionaries, define with brackets `x=['a':[1,2,3]]`"
   ]
  },
  {
   "cell_type": "markdown",
   "metadata": {},
   "source": [
    "## Cookbook"
   ]
  },
  {
   "cell_type": "code",
   "execution_count": null,
   "metadata": {},
   "outputs": [],
   "source": [
    "# after opening a dataset\n",
    "print(df) # 5 or 10 rows from top and bottom\n",
    "print(df.head(20)) # top rows\n",
    "df.tail(20)\n",
    "df.shape\n",
    "df.info()\n",
    "df.describe()  # stat info, only works on number variables\n",
    "df['var'].nunique() #...do on every variables, basically\n",
    "df['var'].value_counts()[:10] # top 10 most used categories\n",
    "\n"
   ]
  },
  {
   "cell_type": "markdown",
   "metadata": {},
   "source": [
    "**Pandas important:**\n",
    "- pd.read to grab files, you can use urls as well\n",
    "- pd.merge is incredibly useful for merging datasets\n",
    "- groupby and query are very useful for organizing data"
   ]
  },
  {
   "cell_type": "markdown",
   "metadata": {},
   "source": [
    "**To make sure you make the correct seaborn plot for data, go to** https://www.data-to-viz.com/"
   ]
  },
  {
   "cell_type": "markdown",
   "metadata": {},
   "source": [
    "**Scraping and Parsing:**\n",
    "- Use requests_html to open pages and parse them\n",
    "- beautiful soup to clean it to usable text\n",
    "- tqdm is a cool progress bar\n",
    "\n",
    "Making a folder and puting data in there:"
   ]
  },
  {
   "cell_type": "code",
   "execution_count": 5,
   "metadata": {},
   "outputs": [
    {
     "ename": "SyntaxError",
     "evalue": "invalid syntax (<ipython-input-5-308fec14c55d>, line 1)",
     "output_type": "error",
     "traceback": [
      "\u001b[1;36m  File \u001b[1;32m\"<ipython-input-5-308fec14c55d>\"\u001b[1;36m, line \u001b[1;32m1\u001b[0m\n\u001b[1;33m    if not os.path.exists(<filename this page would get>):\u001b[0m\n\u001b[1;37m                          ^\u001b[0m\n\u001b[1;31mSyntaxError\u001b[0m\u001b[1;31m:\u001b[0m invalid syntax\n"
     ]
    }
   ],
   "source": [
    "if not os.path.exists(<filename this page would get>): \n",
    "    try:\n",
    "        r = requests.get(<the url>)\n",
    "    except:\n",
    "        # log the error somehow\n",
    "    else:\n",
    "        # save the results, I typically save the RAW source\n",
    "        sleep(3) # be nice to server"
   ]
  },
  {
   "cell_type": "markdown",
   "metadata": {},
   "source": [
    "**Regression techniques**"
   ]
  },
  {
   "cell_type": "code",
   "execution_count": 4,
   "metadata": {},
   "outputs": [],
   "source": [
    "# method 1\n",
    "import statsmodels.api as sm  \n",
    "\n",
    "#y = diamonds2['lprice']\n",
    "#X = diamonds2[['const','lcarat']]\n",
    "\n",
    "#model1 = sm.OLS(y,X)                # pick model type and specify model features\n",
    "#results1 = model1.fit()             # estimate / fit\n",
    "#print(results1.summary())           # view results \n",
    "#y_predicted1 = results1.predict()   # get the predicted results\n",
    "#residuals1 = results1.resid         # get the residuals\n",
    "#residuals1 = y - y_predicted1      # another way to get the residuals"
   ]
  },
  {
   "cell_type": "code",
   "execution_count": 2,
   "metadata": {},
   "outputs": [],
   "source": [
    "# method 2\n",
    "from statsmodels.formula.api import ols as sm_ols\n",
    "\n",
    "#model2   = sm_ols('lprice ~ lcarat',  # specify model (you don't need to include the constant!)\n",
    "#                 data=diamonds2)\n",
    "#results2 = model2.fit()               # estimate / fit\n",
    "#print(results2.summary())             # view results ... identical to before\n",
    "\n"
   ]
  },
  {
   "cell_type": "code",
   "execution_count": 3,
   "metadata": {},
   "outputs": [],
   "source": [
    "# method 3\n",
    "from sklearn.linear_model import LinearRegression\n",
    "\n",
    "#model3 = LinearRegression()         \n",
    "#results3 = model3.fit(X,y)\n",
    "#print('INTERCEPT:', results3.intercept_)  # yuck, definitely uglier\n",
    "#print('COEFS:', results3.coef_) \n",
    "\n",
    "## the fitted predictions/residuals are just a little diff\n",
    "#y_predicted3 = results3.predict(X) \n",
    "#residuals3 = y - y_predicted3"
   ]
  },
  {
   "cell_type": "code",
   "execution_count": null,
   "metadata": {},
   "outputs": [],
   "source": []
  }
 ],
 "metadata": {
  "kernelspec": {
   "display_name": "Python 3",
   "language": "python",
   "name": "python3"
  },
  "language_info": {
   "codemirror_mode": {
    "name": "ipython",
    "version": 3
   },
   "file_extension": ".py",
   "mimetype": "text/x-python",
   "name": "python",
   "nbconvert_exporter": "python",
   "pygments_lexer": "ipython3",
   "version": "3.7.7"
  }
 },
 "nbformat": 4,
 "nbformat_minor": 2
}
