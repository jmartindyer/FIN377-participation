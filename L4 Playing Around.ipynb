{
 "cells": [
  {
   "cell_type": "code",
   "execution_count": 5,
   "metadata": {},
   "outputs": [
    {
     "name": "stdout",
     "output_type": "stream",
     "text": [
      "2\n"
     ]
    }
   ],
   "source": [
    "def silly_function ():\n",
    "    '''\n",
    "    silly_function takes no arguments and it prints 2\n",
    "    \n",
    "    that is all you need to know\n",
    "    '''\n",
    "    # always include a docstring!\n",
    "    return 2\n",
    "\n",
    "a = silly_function()\n"
   ]
  },
  {
   "cell_type": "code",
   "execution_count": 2,
   "metadata": {},
   "outputs": [
    {
     "name": "stdout",
     "output_type": "stream",
     "text": [
      "2\n",
      "None\n"
     ]
    }
   ],
   "source": [
    "print(silly_function())"
   ]
  },
  {
   "cell_type": "code",
   "execution_count": 6,
   "metadata": {},
   "outputs": [
    {
     "name": "stdout",
     "output_type": "stream",
     "text": [
      "Help on built-in function len in module builtins:\n",
      "\n",
      "len(obj, /)\n",
      "    Return the number of items in a container.\n",
      "\n"
     ]
    }
   ],
   "source": [
    "help(len)"
   ]
  },
  {
   "cell_type": "code",
   "execution_count": 13,
   "metadata": {},
   "outputs": [],
   "source": [
    "def my_function (a,m,x=2): # if you specify a value, that is the default value if none is given \n",
    "    '''\n",
    "    the classic line equation\n",
    "    '''\n",
    "    # a = 3\n",
    "    # m = 2\n",
    "    # x = 1\n",
    "    return a + m*x"
   ]
  },
  {
   "cell_type": "code",
   "execution_count": 14,
   "metadata": {},
   "outputs": [
    {
     "name": "stdout",
     "output_type": "stream",
     "text": [
      "7\n"
     ]
    },
    {
     "data": {
      "text/plain": [
       "8"
      ]
     },
     "execution_count": 14,
     "metadata": {},
     "output_type": "execute_result"
    }
   ],
   "source": [
    "print(my_function(3,2))\n",
    "my_function(m=3,a=2)"
   ]
  },
  {
   "cell_type": "code",
   "execution_count": 15,
   "metadata": {},
   "outputs": [
    {
     "name": "stdout",
     "output_type": "stream",
     "text": [
      "WHOA THIS IS NEGATIVE\n",
      "[6, 2]\n",
      "[2, 2]\n",
      "[4, 2]\n",
      "Help on function f in module __main__:\n",
      "\n",
      "f(x, a=1, b=1)\n",
      "    The first argument you give goes to x, the second to a, the third to b.\n",
      "    If you do no provide a or b, they default to the value 1.\n",
      "\n"
     ]
    }
   ],
   "source": [
    "def f(x, a=1, b=1):\n",
    "    '''\n",
    "    The first argument you give goes to x, the second to a, the third to b.\n",
    "    If you do no provide a or b, they default to the value 1.\n",
    "    '''\n",
    "    if x < 0:\n",
    "        return \"WHOA THIS IS NEGATIVE\"\n",
    "    return [a + b * x, 2] # you can return any object(s) you want! this is a list, for example\n",
    "\n",
    "print(f(-100)) #notice it never gets to a+b*x\n",
    "print(f(2,2,2))\n",
    "print(f(1))\n",
    "print(f(1,b=3))\n",
    "help(f)"
   ]
  },
  {
   "cell_type": "code",
   "execution_count": null,
   "metadata": {},
   "outputs": [],
   "source": [
    "def count_capitals(inString):\n",
    "    numCaps = 0\n",
    "    # loop over each character\n",
    "    # if the character is cap\n",
    "    # add one\n",
    "    \n",
    "    return numCaps\n",
    "\n",
    "print(count_capitals('Go Tigers'))"
   ]
  },
  {
   "cell_type": "markdown",
   "metadata": {},
   "source": [
    "## THE\n",
    "\n",
    "                                                                                                          "
   ]
  },
  {
   "cell_type": "code",
   "execution_count": null,
   "metadata": {},
   "outputs": [],
   "source": []
  }
 ],
 "metadata": {
  "kernelspec": {
   "display_name": "Python 3",
   "language": "python",
   "name": "python3"
  },
  "language_info": {
   "codemirror_mode": {
    "name": "ipython",
    "version": 3
   },
   "file_extension": ".py",
   "mimetype": "text/x-python",
   "name": "python",
   "nbconvert_exporter": "python",
   "pygments_lexer": "ipython3",
   "version": "3.7.4"
  }
 },
 "nbformat": 4,
 "nbformat_minor": 2
}
