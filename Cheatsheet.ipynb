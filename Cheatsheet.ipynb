{
 "cells": [
  {
   "cell_type": "markdown",
   "metadata": {},
   "source": [
    "# There are \"two\" ways to call a function\n",
    "1. `object.function(<arguments)`\n",
    "2. `function(object,<arguments>)`"
   ]
  },
  {
   "cell_type": "code",
   "execution_count": null,
   "metadata": {},
   "outputs": [],
   "source": []
  },
  {
   "cell_type": "code",
   "execution_count": null,
   "metadata": {},
   "outputs": [],
   "source": [
    "= and == are not the same\n",
    "x =  [1,2,3]\n",
    "x == [1,2,3]"
   ]
  },
  {
   "cell_type": "markdown",
   "metadata": {},
   "source": [
    "Warnings"
   ]
  },
  {
   "cell_type": "code",
   "execution_count": null,
   "metadata": {},
   "outputs": [],
   "source": [
    "is and == are not the same\n",
    "\n",
    "x = y # BAD! don't create variables that are equal to each other\n",
    "\n",
    "variables are pointers to create duplicate, DUPLICATE!\n",
    "\n",
    "float equality is a weird thing\n",
    "\n",
    "print everything and often\n",
    "\n",
    "always use a \"seed\" with \"random\" functions"
   ]
  },
  {
   "cell_type": "markdown",
   "metadata": {},
   "source": [
    "## Pandas vocab\n",
    "\n",
    "see pandas lecture\n",
    "first variables\n",
    "are key. Keys are unique and non-missing\n",
    "observations x variables\n",
    "index\n",
    "\n",
    "## tips \n",
    "keep your data long as possible"
   ]
  },
  {
   "cell_type": "code",
   "execution_count": 1,
   "metadata": {},
   "outputs": [
    {
     "name": "stdout",
     "output_type": "stream",
     "text": [
      "True\n",
      "False\n",
      "True\n"
     ]
    }
   ],
   "source": [
    "list1 = [] \n",
    "list2 = [] \n",
    "list3=list1 \n",
    "print(list1 == list2)\n",
    "print(list1 is list2)\n",
    "print(list1 is list3)"
   ]
  },
  {
   "cell_type": "markdown",
   "metadata": {},
   "source": [
    "Data Structures\n",
    "1. lists, define with brackets `x=[1,2,3]`\n",
    "2. tuples, define with parens `x=(1,2,3)`\n",
    "3. sets\n",
    "4. dictionaries, define with brackets `x=['a':[1,2,3]]`"
   ]
  },
  {
   "cell_type": "markdown",
   "metadata": {},
   "source": [
    "## Cookbook"
   ]
  },
  {
   "cell_type": "code",
   "execution_count": null,
   "metadata": {},
   "outputs": [],
   "source": [
    "# after opening a dataset\n",
    "print(df) # 5 or 10 rows from top and bottom\n",
    "print(df.head(20)) # top rows\n",
    "df.tail(20)\n",
    "df.shape\n",
    "df.info()\n",
    "df.describe()  # stat info, only works on number variables\n",
    "df['var'].nunique() #...do on every variables, basically\n",
    "df['var'].value_counts()[:10] # top 10 most used categories\n",
    "\n"
   ]
  }
 ],
 "metadata": {
  "kernelspec": {
   "display_name": "Python 3",
   "language": "python",
   "name": "python3"
  },
  "language_info": {
   "codemirror_mode": {
    "name": "ipython",
    "version": 3
   },
   "file_extension": ".py",
   "mimetype": "text/x-python",
   "name": "python",
   "nbconvert_exporter": "python",
   "pygments_lexer": "ipython3",
   "version": "3.7.4"
  }
 },
 "nbformat": 4,
 "nbformat_minor": 2
}
